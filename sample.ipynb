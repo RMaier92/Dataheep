{
 "cells": [
  {
   "cell_type": "code",
   "execution_count": 10,
   "metadata": {},
   "outputs": [],
   "source": [
    "from dataheep import Dataheep\n",
    "import pandas as pd"
   ]
  },
  {
   "cell_type": "code",
   "execution_count": 11,
   "metadata": {},
   "outputs": [],
   "source": [
    "\n",
    "df_sample_data_original = pd.read_csv(\"sample_data/randomData.csv\")\n"
   ]
  },
  {
   "cell_type": "code",
   "execution_count": 12,
   "metadata": {},
   "outputs": [],
   "source": [
    "\n",
    "\"\"\"\n",
    "First of all, a new dataheep needs to be created. \n",
    "This dataheep doens't contain any attributes\n",
    "\"\"\"\n",
    "dhp_sample_data = Dataheep.object_create()\n",
    "\n",
    "\"\"\"\n",
    "Since the dataheep is empty and doesn't know any attribute,\n",
    "the required attributes (here data maturity levels) are added\n",
    "\"\"\"\n",
    "dhp_sample_data = Dataheep.attribute_add(dhp_sample_data, \"original_data\")\n",
    "dhp_sample_data = Dataheep.attribute_add(dhp_sample_data, \"cleaned_data\")\n",
    "dhp_sample_data = Dataheep.attribute_add(dhp_sample_data, \"aggregated_data\")\n",
    "dhp_sample_data = Dataheep.attribute_add(dhp_sample_data, \"predicted_data\")\n",
    "\n",
    "\n"
   ]
  },
  {
   "cell_type": "code",
   "execution_count": 13,
   "metadata": {},
   "outputs": [],
   "source": [
    "def clean_data( df_original_data: pd.DataFrame):\n",
    "    # Here should be the data processing code ...\n",
    "    return df_original_data\n",
    "\n",
    "def aggregate_data( df_clean_data: pd.DataFrame):\n",
    "    # Here should be the data processing code ...\n",
    "    return df_clean_data\n",
    "\n",
    "\n",
    "def predict_data( df_aggregate_data: pd.DataFrame):\n",
    "    # Here should be the data processing code ...\n",
    "    return df_aggregate_data\n"
   ]
  },
  {
   "cell_type": "code",
   "execution_count": 16,
   "metadata": {},
   "outputs": [
    {
     "name": "stdout",
     "output_type": "stream",
     "text": [
      "---\n",
      "{'config': {'autosave': True}, 'data_properties': {}}\n",
      "---\n"
     ]
    }
   ],
   "source": [
    "\"\"\" \n",
    "Now this attributes can be used to assign a value.\n",
    "\"\"\"\n",
    "dhp_sample_data.original_data = df_sample_data_original\n",
    "\n",
    "\"\"\"\n",
    "Doing some data modification and adding the new data also to dhp_oil \n",
    "\"\"\"\n",
    "dhp_sample_data.cleaned_data = clean_data( dhp_sample_data.original_data )\n",
    "dhp_sample_data.aggregated_data = aggregate_data( dhp_sample_data.cleaned_data )\n",
    "dhp_sample_data.predicted_data = predict_data( dhp_sample_data.aggregated_data )\n",
    "\n",
    "\"\"\"\n",
    "Since all preparation step take some time, the dataheep can be saved\n",
    "\n",
    "\"\"\"\n",
    "\n",
    "\n",
    "# The object_save will generate a .dhp file and save it. This file contains all data\n",
    "Dataheep.object_save(dhp_sample_data, \"./sample_data/sample_data.dhp\")"
   ]
  }
 ],
 "metadata": {
  "interpreter": {
   "hash": "976a7013ae9b6375dd3b6fd8012ded46dcef65ed674c8a499dd2f473ac3f0d66"
  },
  "kernelspec": {
   "display_name": "Python 3.9.7 64-bit",
   "language": "python",
   "name": "python3"
  },
  "language_info": {
   "codemirror_mode": {
    "name": "ipython",
    "version": 3
   },
   "file_extension": ".py",
   "mimetype": "text/x-python",
   "name": "python",
   "nbconvert_exporter": "python",
   "pygments_lexer": "ipython3",
   "version": "3.9.7"
  },
  "orig_nbformat": 4
 },
 "nbformat": 4,
 "nbformat_minor": 2
}
